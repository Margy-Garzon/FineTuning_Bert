{
 "cells": [
  {
   "cell_type": "markdown",
   "metadata": {
    "id": "ilRf00ugktUA"
   },
   "source": [
    "# Data Extraction "
   ]
  },
  {
   "cell_type": "code",
   "execution_count": 3,
   "metadata": {
    "colab": {
     "base_uri": "https://localhost:8080/"
    },
    "executionInfo": {
     "elapsed": 14033,
     "status": "ok",
     "timestamp": 1744739510092,
     "user": {
      "displayName": "Margy",
      "userId": "03449713055132142977"
     },
     "user_tz": -120
    },
    "id": "XD_4e2f1kkgN",
    "outputId": "aa7a2ecc-9455-48da-d98c-a4384fd13d98"
   },
   "outputs": [],
   "source": [
    "import pandas as pd\n",
    "from pymongo import MongoClient\n",
    "import os\n",
    "from dotenv import load_dotenv"
   ]
  },
  {
   "cell_type": "code",
   "execution_count": 4,
   "metadata": {},
   "outputs": [],
   "source": [
    "# Cargar variables desde .env\n",
    "load_dotenv()\n",
    "\n",
    "def get_com_sinco() -> pd.DataFrame:\n",
    "    \"\"\"\n",
    "    Connect to MongoDB databases (DB20 and DB25) and retrieve communications data.\n",
    "\n",
    "    Returns\n",
    "    -------\n",
    "    pd.DataFrame\n",
    "        Combined DataFrame with columns: code, category, messages.\n",
    "    \"\"\"\n",
    "    uri = os.getenv(\"MONGO_URI\")\n",
    "    db20 = os.getenv(\"DB_NAME_20\")\n",
    "    db25 = os.getenv(\"DB_NAME_25\")\n",
    "\n",
    "    # Database connection\n",
    "    con = MongoClient(uri)\n",
    "    db_20 = con[db20]\n",
    "    db_25 = con[db25]\n",
    "\n",
    "    # Get com sinco 20\n",
    "    q = {}\n",
    "    p = {\"_id\": 0, \"correlativo\": 1, \"asunto_id2/name\": 1, \"comunicacion\": 1}\n",
    "    cursor = db_20[\"comunication\"].find(q, p)\n",
    "    df_20 = pd.DataFrame.from_records(cursor)\n",
    "    df_20.rename(columns={\n",
    "        \"correlativo\": \"code\",\n",
    "        \"asunto_id2/name\": \"category\",\n",
    "        \"comunicacion\": \"messages\"\n",
    "    }, inplace=True)\n",
    "\n",
    "    # Get com sinco 25\n",
    "    q = {}\n",
    "    p = {\"_id\": 0, \"code\": 1, \"categogory_id\": 1, \"messages\": 1}\n",
    "    cursor = db_25[\"com.caso\"].find(q, p)\n",
    "    df_25 = pd.DataFrame.from_records(cursor)\n",
    "    df_25[\"category\"] = df_25.apply(\n",
    "        lambda x: x[\"categogory_id\"][1] if x[\"categogory_id\"] else \"\", axis=1\n",
    "    )\n",
    "    df_25.drop(columns=\"categogory_id\", inplace=True)\n",
    "\n",
    "    # Combine both datasets\n",
    "    df = pd.concat([df_20, df_25])\n",
    "    return df\n"
   ]
  },
  {
   "cell_type": "code",
   "execution_count": null,
   "metadata": {},
   "outputs": [],
   "source": [
    "df = get_com_sinco()"
   ]
  },
  {
   "cell_type": "code",
   "execution_count": 8,
   "metadata": {
    "colab": {
     "base_uri": "https://localhost:8080/",
     "height": 17
    },
    "executionInfo": {
     "elapsed": 6993,
     "status": "ok",
     "timestamp": 1744739677107,
     "user": {
      "displayName": "Margy",
      "userId": "03449713055132142977"
     },
     "user_tz": -120
    },
    "id": "igiux8y3leEm",
    "outputId": "e64e90ec-dc2a-44fe-b58f-6e59461d6099"
   },
   "outputs": [],
   "source": [
    "df.to_excel('datos_sinco.xlsx', index=False)"
   ]
  }
 ],
 "metadata": {
  "colab": {
   "authorship_tag": "ABX9TyOrz3PFiy7fuyqfcwI1qW7+",
   "provenance": []
  },
  "kernelspec": {
   "display_name": "env",
   "language": "python",
   "name": "python3"
  },
  "language_info": {
   "codemirror_mode": {
    "name": "ipython",
    "version": 3
   },
   "file_extension": ".py",
   "mimetype": "text/x-python",
   "name": "python",
   "nbconvert_exporter": "python",
   "pygments_lexer": "ipython3",
   "version": "3.12.3"
  }
 },
 "nbformat": 4,
 "nbformat_minor": 0
}
